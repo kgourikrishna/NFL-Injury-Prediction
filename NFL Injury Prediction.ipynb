{
 "cells": [
  {
   "cell_type": "markdown",
   "id": "6f6e184e",
   "metadata": {},
   "source": [
    "# NFL Injury Prediction"
   ]
  },
  {
   "cell_type": "markdown",
   "id": "e0b01449",
   "metadata": {},
   "source": [
    "By Kushal Gourikrishna"
   ]
  },
  {
   "cell_type": "markdown",
   "id": "a01fb14a",
   "metadata": {},
   "source": [
    "## Problem Statement"
   ]
  },
  {
   "cell_type": "markdown",
   "id": "3f022497",
   "metadata": {},
   "source": [
    "The NFL has always been a very violent sport and injuries are an unfortunate byproduct of this. However, aside from injuries suffered due to the physicality of the game there are also a large number of non-contact injuries that are suffered every year. There has been a suspicion that turf type can have an impact on player injuries but there are a variety of factors on every play that could play a role such as the speed and direction of the player, weather conditions, stadium, etc. "
   ]
  },
  {
   "cell_type": "markdown",
   "id": "8e430a0e",
   "metadata": {},
   "source": [
    "## Objective"
   ]
  },
  {
   "cell_type": "markdown",
   "id": "2efa58e5",
   "metadata": {},
   "source": [
    "Build and test different classification models and choose a model that can help predict injuries to NFL players based on a suite of factors present during a typical NFL game."
   ]
  },
  {
   "cell_type": "markdown",
   "id": "f0f59626",
   "metadata": {},
   "source": [
    "## Setup"
   ]
  },
  {
   "cell_type": "code",
   "execution_count": null,
   "id": "52346e7e",
   "metadata": {},
   "outputs": [],
   "source": [
    "# Import libraries\n",
    "import numpy as np\n",
    "from matplotlib import pyplot as plt\n",
    "import pandas as pd\n",
    "import seaborn as sns  # for nicer plots\n",
    "sns.set(style=\"darkgrid\")  # default style\n",
    "\n",
    "import tensorflow as tf\n",
    "from tensorflow import keras as kr\n",
    "from keras import metrics\n",
    "tf.get_logger().setLevel('INFO')\n",
    "\n",
    "from sklearn.metrics import confusion_matrix, ConfusionMatrixDisplay, f1_score, accuracy_score, classification_report,recall_score,precision_score,roc_auc_score,roc_curve\n",
    "from sklearn.linear_model import LogisticRegression\n",
    "from sklearn.model_selection import train_test_split, GridSearchCV\n",
    "from sklearn.preprocessing import StandardScaler\n",
    "from imblearn.over_sampling import SMOTE"
   ]
  },
  {
   "cell_type": "code",
   "execution_count": null,
   "id": "a7e2ada8",
   "metadata": {},
   "outputs": [],
   "source": [
    "# load the data\n",
    "injury_record = pd.read_csv('InjuryRecord.csv')\n",
    "player_track_data = pd.read_csv('PlayerTrackData.csv')\n",
    "play_list = pd.read_csv('PlayList.csv')"
   ]
  },
  {
   "cell_type": "code",
   "execution_count": null,
   "id": "89b0242a",
   "metadata": {},
   "outputs": [],
   "source": [
    "# set the max columns to 50\n",
    "pd.set_option('display.max_columns', 50)\n",
    "pd.set_option('display.max_rows',50)"
   ]
  },
  {
   "cell_type": "markdown",
   "id": "e91cdc13",
   "metadata": {},
   "source": [
    "## Data Exploration and Cleaning"
   ]
  },
  {
   "cell_type": "markdown",
   "id": "72a1f82f",
   "metadata": {},
   "source": [
    "### Injury Data"
   ]
  },
  {
   "cell_type": "code",
   "execution_count": null,
   "id": "ed2c7dca",
   "metadata": {},
   "outputs": [],
   "source": [
    "#See head of injury record data\n",
    "injury_record.head()"
   ]
  },
  {
   "cell_type": "code",
   "execution_count": null,
   "id": "d884ebd7",
   "metadata": {
    "scrolled": true
   },
   "outputs": [],
   "source": [
    "#See baseline stats of injury record\n",
    "injury_record.describe(include='all')"
   ]
  },
  {
   "cell_type": "markdown",
   "id": "4133c90e",
   "metadata": {},
   "source": [
    "#### Fill Nulls for Injury Data"
   ]
  },
  {
   "cell_type": "code",
   "execution_count": null,
   "id": "d63bbbc6",
   "metadata": {},
   "outputs": [],
   "source": [
    "#Check injury data for nulls\n",
    "injury_record.isnull().sum()"
   ]
  },
  {
   "cell_type": "code",
   "execution_count": null,
   "id": "708f8f0f",
   "metadata": {},
   "outputs": [],
   "source": [
    "#Fill missing PlayKey values in injury dataframe with last play recorded for that Game\n",
    "injury_record['PlayKey'] = injury_record.apply(\n",
    "    lambda row: play_list.loc[play_list['GameID'] == row['GameID']].iloc[-1]['PlayKey'] if pd.isnull(row['PlayKey']) else row['PlayKey'],\n",
    "    axis=1\n",
    ")"
   ]
  },
  {
   "cell_type": "code",
   "execution_count": null,
   "id": "50cca520",
   "metadata": {},
   "outputs": [],
   "source": [
    "#Check injury data for nulls after filling missing values\n",
    "injury_record.isnull().sum()"
   ]
  },
  {
   "cell_type": "markdown",
   "id": "c2084bf1",
   "metadata": {},
   "source": [
    "### Play List Data"
   ]
  },
  {
   "cell_type": "code",
   "execution_count": null,
   "id": "00358984",
   "metadata": {},
   "outputs": [],
   "source": [
    "play_list.head(15)"
   ]
  },
  {
   "cell_type": "code",
   "execution_count": null,
   "id": "6215f9d7",
   "metadata": {},
   "outputs": [],
   "source": [
    "play_list.describe(include='all')"
   ]
  },
  {
   "cell_type": "markdown",
   "id": "59381d7f",
   "metadata": {},
   "source": [
    "#### Check Nulls for Play List Data"
   ]
  },
  {
   "cell_type": "code",
   "execution_count": null,
   "id": "33d9ab1c",
   "metadata": {},
   "outputs": [],
   "source": [
    "play_list.isnull().sum()"
   ]
  },
  {
   "cell_type": "markdown",
   "id": "4b8e9391",
   "metadata": {},
   "source": [
    "#### Clean Play List and normalize categorical variables"
   ]
  },
  {
   "cell_type": "code",
   "execution_count": null,
   "id": "8084b0e2",
   "metadata": {},
   "outputs": [],
   "source": [
    "play_list['StadiumType'].unique()"
   ]
  },
  {
   "cell_type": "code",
   "execution_count": null,
   "id": "ac7a1027",
   "metadata": {},
   "outputs": [],
   "source": [
    "play_list['Weather'].unique()"
   ]
  },
  {
   "cell_type": "code",
   "execution_count": null,
   "id": "7b93e630",
   "metadata": {},
   "outputs": [],
   "source": [
    "array_outdoors = ['Outdoor', 'Oudoor', 'Outdoors',\n",
    "       'Ourdoor', 'Outddors', 'Heinz Field', 'Outdor', 'Outside', 'Cloudy']\n",
    "array_indoors = ['Indoors', 'Indoor', 'Indoor', 'Retractable Roof']\n",
    "array_open = ['Open','Outdoor Retr Roof-Open', 'Retr. Roof-Open', 'Indoor, Open Roof',\n",
    "       'Domed, Open', 'Domed, open', 'Retr. Roof - Open']\n",
    "array_closed = ['Closed Dome', 'Domed, closed', 'Dome', 'Domed',\n",
    "       'Retr. Roof-Closed', 'Outdoor Retr Roof-Open', 'Retractable Roof', 'Indoor, Roof Closed', 'Retr. Roof - Closed', 'Bowl', 'Dome, closed',\n",
    "       'Retr. Roof Closed']\n",
    "\n",
    "play_list['StadiumType'] = play_list['StadiumType'].replace(array_outdoors, 'Outdoors')\n",
    "play_list['StadiumType'] = play_list['StadiumType'].replace(array_indoors, 'Indoors')\n",
    "play_list['StadiumType'] = play_list['StadiumType'].replace(array_open, 'Roof Open')\n",
    "play_list['StadiumType'] = play_list['StadiumType'].replace(array_closed, 'Roof Closed')"
   ]
  },
  {
   "cell_type": "code",
   "execution_count": null,
   "id": "c7aa30ec",
   "metadata": {},
   "outputs": [],
   "source": [
    "array_clear = ['Clear and warm', 'Sunny', 'Clear',\n",
    "       'Sunny and warm', 'Clear and Cool',\n",
    "       'Clear and cold', 'Sunny and cold', 'Partly Sunny',\n",
    "       'Mostly Sunny', 'Clear Skies', 'Partly sunny', \n",
    "       'Sunny and clear', 'Clear skies',\n",
    "       'Sunny Skies', 'Fair', 'Partly clear', \n",
    "       'Heat Index 95', 'Sunny, highs to upper 80s', \n",
    "       'Mostly sunny', 'Sunny, Windy', 'Mostly Sunny Skies', \n",
    "       'Clear and Sunny', 'Clear and sunny',\n",
    "       'Clear to Partly Cloudy', 'Cold']\n",
    "\n",
    "array_cloudy = ['Mostly Cloudy', 'Cloudy',\n",
    "       'Cloudy, fog started developing in 2nd quarter',\n",
    "       'Partly Cloudy', 'Mostly cloudy', 'Cloudy and cold',\n",
    "       'Cloudy and Cool', 'Partly cloudy', \n",
    "       'Party Cloudy', 'Hazy', 'Partly Clouidy',\n",
    "       'Overcast', 'Cloudy, 50% change of rain',\n",
    "       'Mostly Coudy', 'Cloudy, chance of rain',\n",
    "       'Sun & clouds', 'Cloudy, Rain',\n",
    "       'cloudy', 'Coudy']\n",
    "\n",
    "array_indoors = ['Controlled Climate','Indoor',\n",
    "       'N/A (Indoors)', 'Indoors', 'N/A Indoor']\n",
    "\n",
    "array_precip = ['Rain',\n",
    "       'Snow',\n",
    "       'Scattered Showers',\n",
    "       'Light Rain',\n",
    "       'Heavy lake effect snow', 'Cloudy, Rain',\n",
    "       'Rainy',\n",
    "       'Cloudy, light snow accumulating 1-3\"',\n",
    "       'Cloudy with periods of rain, thunder possible. Winds shifting to WNW, 10-20 mph.',\n",
    "       'Rain shower', 'Rain likely, temps in low 40s.', 'Rain Chance 40%', 'Rain likely, temps in low 40s.',\n",
    "       'Cloudy, 50% change of rain', '10% Chance of Rain', 'Showers', '30% Chance of Rain']\n",
    "\n",
    "play_list['Weather'] = play_list['Weather'].replace(array_clear, 'Clear')\n",
    "play_list['Weather'] = play_list['Weather'].replace(array_cloudy, 'Cloudy')\n",
    "play_list['Weather'] = play_list['Weather'].replace(array_indoors, 'Indoors')\n",
    "play_list['Weather'] = play_list['Weather'].replace(array_precip, 'Precipitation')"
   ]
  },
  {
   "cell_type": "markdown",
   "id": "fdcb3d1c",
   "metadata": {},
   "source": [
    "##### After cleaning, fill nulls and invalid data for Play List data"
   ]
  },
  {
   "cell_type": "code",
   "execution_count": null,
   "id": "56324df9",
   "metadata": {},
   "outputs": [],
   "source": [
    "#Fill stadium type nulls for outdoor \"weather\" with \"Outdoors\"\n",
    "play_list.loc[(play_list['StadiumType'].isnull()) & (play_list['Weather'] != 'Indoors'),'StadiumType'] = 'Outdoors'"
   ]
  },
  {
   "cell_type": "code",
   "execution_count": null,
   "id": "e58a9e90",
   "metadata": {},
   "outputs": [],
   "source": [
    "#Fill weather nulls for indoor stadiums with indoors\n",
    "play_list.loc[(play_list['Weather'].isnull()) & ((play_list['StadiumType']!='Roof Open') & (play_list['StadiumType']!='Outdoors')),'Weather'] = 'Indoors'"
   ]
  },
  {
   "cell_type": "code",
   "execution_count": null,
   "id": "2a590a5f",
   "metadata": {},
   "outputs": [],
   "source": [
    "#Fill weather nulls for outdoor stadiums with mode of cloudy\n",
    "play_list.loc[play_list['Weather'].isnull(),'Weather'] = 'Cloudy'"
   ]
  },
  {
   "cell_type": "code",
   "execution_count": null,
   "id": "280ae81a",
   "metadata": {},
   "outputs": [],
   "source": [
    "#Fill play type nulls with mode which is pass plays\n",
    "play_list.loc[play_list['PlayType'].isnull(),'PlayType'] = 'Pass'"
   ]
  },
  {
   "cell_type": "code",
   "execution_count": null,
   "id": "35c2cbb2",
   "metadata": {},
   "outputs": [],
   "source": [
    "#Check that null values of play list are gone\n",
    "play_list.isnull().sum()"
   ]
  },
  {
   "cell_type": "code",
   "execution_count": null,
   "id": "a1f7062d",
   "metadata": {},
   "outputs": [],
   "source": [
    "play_list['PlayType'].value_counts()"
   ]
  },
  {
   "cell_type": "code",
   "execution_count": null,
   "id": "b89f5a72",
   "metadata": {},
   "outputs": [],
   "source": [
    "play_list = play_list[play_list.PlayType != '0']"
   ]
  },
  {
   "cell_type": "code",
   "execution_count": null,
   "id": "69700499",
   "metadata": {},
   "outputs": [],
   "source": [
    "play_list['PlayType'].value_counts()"
   ]
  },
  {
   "cell_type": "code",
   "execution_count": null,
   "id": "49f3bb3d",
   "metadata": {
    "scrolled": true
   },
   "outputs": [],
   "source": [
    "#Check rows with temp = -999\n",
    "play_list.loc[play_list['Temperature'] == -999]"
   ]
  },
  {
   "cell_type": "code",
   "execution_count": null,
   "id": "ecffe044",
   "metadata": {},
   "outputs": [],
   "source": [
    "#Replace temp = -999 with 67 for when game is in stadium with roof closed\n",
    "play_list.loc[(play_list['StadiumType'] == 'Roof Closed') & (play_list['Temperature'] == -999),'Temperature'] = 67\n"
   ]
  },
  {
   "cell_type": "code",
   "execution_count": null,
   "id": "ba948d4b",
   "metadata": {},
   "outputs": [],
   "source": [
    "#Replace temp = -999 with 67 for when game is in indoor stadium\n",
    "play_list.loc[(play_list['StadiumType'] == 'Indoors') & (play_list['Temperature'] == -999),'Temperature'] = 67\n"
   ]
  },
  {
   "cell_type": "code",
   "execution_count": null,
   "id": "521e0226",
   "metadata": {},
   "outputs": [],
   "source": [
    "#Compute mean temp for all outdoor games\n",
    "outdoor_temp_mean = play_list.loc[(play_list['StadiumType'] == 'Roof Open') | (play_list['StadiumType'] == 'Outdoors')]['Temperature'].mean()"
   ]
  },
  {
   "cell_type": "code",
   "execution_count": null,
   "id": "68dcb8c9",
   "metadata": {},
   "outputs": [],
   "source": [
    "#Fill temp = -999 with mean of outdoor game temps\n",
    "play_list.loc[play_list['Temperature'] == -999,'Temperature'] = outdoor_temp_mean"
   ]
  },
  {
   "cell_type": "markdown",
   "id": "d405d1f2",
   "metadata": {},
   "source": [
    "### Player Tracking Data"
   ]
  },
  {
   "cell_type": "code",
   "execution_count": null,
   "id": "951c6ad6",
   "metadata": {},
   "outputs": [],
   "source": [
    "#Create column in player track data for 'angle' based on orientation and direction\n",
    "player_track_data['angle'] = player_track_data['o'] - player_track_data['dir']\n",
    "\n",
    "#Find max and avg values in player tracking data per play for player\n",
    "grouped_max = player_track_data[['PlayKey','time', 'dir', 'dis', 'o', 's', 'angle']].groupby(by=['PlayKey']).max()\n",
    "grouped_average = player_track_data[['PlayKey','time', 'dir', 'dis', 'o', 's', 'angle','x','y']].groupby(by=['PlayKey']).mean()\n",
    "    "
   ]
  },
  {
   "cell_type": "markdown",
   "id": "08efdd68",
   "metadata": {},
   "source": [
    "### Clean and Merge All Datasets"
   ]
  },
  {
   "cell_type": "code",
   "execution_count": null,
   "id": "dd078912",
   "metadata": {},
   "outputs": [],
   "source": [
    "play_list = play_list.drop(['PositionGroup','Position'],axis=1)"
   ]
  },
  {
   "cell_type": "code",
   "execution_count": null,
   "id": "50e1b8ad",
   "metadata": {},
   "outputs": [],
   "source": [
    "play_inj = pd.merge(play_list,injury_record, on='PlayKey',how='left')"
   ]
  },
  {
   "cell_type": "code",
   "execution_count": null,
   "id": "ae2f585e",
   "metadata": {},
   "outputs": [],
   "source": [
    "play_inj['DM_M1'] = play_inj['DM_M1'].fillna(0).astype(int)\n",
    "play_inj['DM_M7'] = play_inj['DM_M7'].fillna(0).astype(int)\n",
    "play_inj['DM_M28'] = play_inj['DM_M28'].fillna(0).astype(int)\n",
    "play_inj['DM_M42'] = play_inj['DM_M42'].fillna(0).astype(int)\n",
    "play_inj['BodyPart'] = play_inj['BodyPart'].fillna('None')"
   ]
  },
  {
   "cell_type": "code",
   "execution_count": null,
   "id": "328822da",
   "metadata": {},
   "outputs": [],
   "source": [
    "play_inj = play_inj.drop(['PlayerKey_y','GameID_y','Surface'],axis=1)"
   ]
  },
  {
   "cell_type": "code",
   "execution_count": null,
   "id": "8c2cca1e",
   "metadata": {},
   "outputs": [],
   "source": [
    "play_inj.DM_M1 = play_inj.DM_M1 - play_inj.DM_M7\n",
    "play_inj.DM_M7 = play_inj.DM_M7 - play_inj.DM_M28\n",
    "play_inj.DM_M28 = play_inj.DM_M28 - play_inj.DM_M42\n",
    "play_inj['Injury'] = play_inj['DM_M1'] + play_inj['DM_M7'] + play_inj['DM_M28'] + play_inj['DM_M42']"
   ]
  },
  {
   "cell_type": "code",
   "execution_count": null,
   "id": "cd5cc039",
   "metadata": {},
   "outputs": [],
   "source": [
    "play_inj = play_inj.drop(['DM_M1','DM_M7','DM_M28','DM_M42'],axis=1)"
   ]
  },
  {
   "cell_type": "code",
   "execution_count": null,
   "id": "6b6c1949",
   "metadata": {},
   "outputs": [],
   "source": [
    "play_inj_track = play_inj.merge(grouped_max.reset_index(), on=['PlayKey'])\n",
    "play_inj_track = play_inj_track.merge(grouped_average.reset_index(), on=['PlayKey'], suffixes=('_max', '_avg'))"
   ]
  },
  {
   "cell_type": "code",
   "execution_count": null,
   "id": "a96e6f03",
   "metadata": {},
   "outputs": [],
   "source": [
    "play_inj_track.head()"
   ]
  },
  {
   "cell_type": "code",
   "execution_count": null,
   "id": "7496dafa",
   "metadata": {},
   "outputs": [],
   "source": [
    "play_inj_track = play_inj_track.drop(['dir_max','o_max','dir_avg','o_avg','PlayerKey_x','GameID_x'],axis = 1)"
   ]
  },
  {
   "cell_type": "markdown",
   "id": "924567f1",
   "metadata": {},
   "source": [
    "### Merged Data with Feature Columns"
   ]
  },
  {
   "cell_type": "code",
   "execution_count": null,
   "id": "84b13d4c",
   "metadata": {},
   "outputs": [],
   "source": [
    "#Merged and cleaned dataset with features\n",
    "play_inj_track['PlayType'].value_counts()"
   ]
  },
  {
   "cell_type": "markdown",
   "id": "b92ae634",
   "metadata": {},
   "source": [
    "### Transform Categorical Data "
   ]
  },
  {
   "cell_type": "code",
   "execution_count": null,
   "id": "f1c7f2f2",
   "metadata": {},
   "outputs": [],
   "source": [
    "injury_model_data = pd.get_dummies(play_inj_track, prefix=['RosterPosition'], columns=['RosterPosition'])\n",
    "injury_model_data = pd.get_dummies(injury_model_data, prefix=['StadiumType'], columns=['StadiumType'])\n",
    "injury_model_data = pd.get_dummies(injury_model_data, prefix=['FieldType'], columns=['FieldType'])\n",
    "injury_model_data = pd.get_dummies(injury_model_data, prefix=['Weather'], columns=['Weather'])\n",
    "injury_model_data = pd.get_dummies(injury_model_data, prefix=['PlayType'], columns=['PlayType'])\n",
    "\n",
    "injury_model_data = injury_model_data.drop(['PlayKey','BodyPart'],axis=1)\n"
   ]
  },
  {
   "cell_type": "markdown",
   "id": "8ac484bb",
   "metadata": {},
   "source": [
    "## Exploratory Data Analysis"
   ]
  },
  {
   "cell_type": "code",
   "execution_count": null,
   "id": "a378b596",
   "metadata": {},
   "outputs": [],
   "source": [
    "# Creating numerical columns\n",
    "num_cols = ['PlayerDay','PlayerGame','Temperature','PlayerGamePlay','time_max','dis_max','s_max','angle_max'\n",
    "           ,'time_avg','dis_avg','s_avg','angle_avg','x','y']\n",
    "\n",
    "# Creating categorical variables \n",
    "cat_cols = ['Injury','RosterPosition','StadiumType','FieldType','Weather','PlayType']"
   ]
  },
  {
   "cell_type": "code",
   "execution_count": null,
   "id": "dcbe84b1",
   "metadata": {},
   "outputs": [],
   "source": [
    "injury_record.groupby('BodyPart').count()['PlayerKey'] \\\n",
    "    .sort_values() \\\n",
    "    .plot(kind='bar', figsize=(10, 3), title='Count of injuries by Body Part')\n",
    "plt.show()"
   ]
  },
  {
   "cell_type": "code",
   "execution_count": null,
   "id": "410ca896",
   "metadata": {},
   "outputs": [],
   "source": [
    "# Plotting the correlation between numerical variables\n",
    "plt.figure(figsize = (15, 8))\n",
    "\n",
    "sns.heatmap(injury_model_data[num_cols].corr(), annot = True, fmt = '0.2f', cmap = 'YlGnBu')"
   ]
  },
  {
   "cell_type": "code",
   "execution_count": null,
   "id": "0b4bc256",
   "metadata": {},
   "outputs": [],
   "source": [
    "#Drop highly correlated features\n",
    "\n",
    "injury_model_data = injury_model_data.drop(['PlayerGame','time_max','dis_avg'],axis = 1)"
   ]
  },
  {
   "cell_type": "code",
   "execution_count": null,
   "id": "2d6cc644",
   "metadata": {},
   "outputs": [],
   "source": [
    "num_cols = ['PlayerDay','Temperature','PlayerGamePlay','dis_max','s_max','angle_max'\n",
    "           ,'time_avg','s_avg','angle_avg','x','y']"
   ]
  },
  {
   "cell_type": "code",
   "execution_count": null,
   "id": "d2deb14a",
   "metadata": {},
   "outputs": [],
   "source": [
    "# Plotting the correlation between numerical variables again\n",
    "plt.figure(figsize = (15, 8))\n",
    "\n",
    "sns.heatmap(injury_model_data[num_cols].corr(), annot = True, fmt = '0.2f', cmap = 'YlGnBu')"
   ]
  },
  {
   "cell_type": "code",
   "execution_count": null,
   "id": "58da7970",
   "metadata": {},
   "outputs": [],
   "source": [
    "injury_model_data.head()"
   ]
  },
  {
   "cell_type": "markdown",
   "id": "de11e5d9",
   "metadata": {},
   "source": [
    "# Model Building"
   ]
  },
  {
   "cell_type": "markdown",
   "id": "13f42c40",
   "metadata": {},
   "source": [
    "### Create Metrics Function"
   ]
  },
  {
   "cell_type": "code",
   "execution_count": null,
   "id": "6a5291d2",
   "metadata": {},
   "outputs": [],
   "source": [
    "def metrics_score(actual, predicted, model):\n",
    "    \n",
    "    acc = accuracy_score(actual, predicted)\n",
    "    prec = precision_score(actual, predicted)\n",
    "    rec = recall_score(actual, predicted)\n",
    "    f1 = f1_score(actual, predicted)\n",
    "    roc_auc = roc_auc_score(actual,predicted)\n",
    "\n",
    "    print(classification_report(actual, predicted))\n",
    "\n",
    "    cm = confusion_matrix(actual, predicted)\n",
    "\n",
    "    plt.figure(figsize = (8, 5))\n",
    "\n",
    "    sns.heatmap(cm, annot = True, fmt = '.2f', xticklabels = ['No Injury', 'Injury'], yticklabels = ['No Injury', 'Injury'])\n",
    "\n",
    "    plt.ylabel('Actual')\n",
    "\n",
    "    plt.xlabel('Predicted')\n",
    "    \n",
    "    plt.show()\n",
    "    \n",
    "    model_table = pd.DataFrame([[model, acc, 1-rec, rec, prec, f1, roc_auc]],\n",
    "               columns = ['Model', 'Accuracy', 'FalseNegRate', 'Recall', 'Precision', 'F1 Score','ROC_AUC'])\n",
    "    \n",
    "    return model_table"
   ]
  },
  {
   "cell_type": "markdown",
   "id": "a666f964",
   "metadata": {},
   "source": [
    "### Balancing Dataset"
   ]
  },
  {
   "cell_type": "code",
   "execution_count": null,
   "id": "8675d367",
   "metadata": {},
   "outputs": [],
   "source": [
    "# Split the data into features (X) and target (y)\n",
    "X = injury_model_data.drop('Injury', axis=1)\n",
    "y = injury_model_data['Injury']"
   ]
  },
  {
   "cell_type": "code",
   "execution_count": null,
   "id": "5f941f63",
   "metadata": {},
   "outputs": [],
   "source": [
    "labels, counts = np.unique(y, return_counts=True)\n",
    "labels = ['No Injury','Injury']\n",
    "\n",
    "plt.figure(figsize=(10, 5))\n",
    "plt.bar(labels,counts)\n",
    "plt.title('Dataset proportions')\n",
    "plt.xlabel(\"Player Injury (Yes/No)\")\n",
    "plt.ylabel(\"Count\")\n",
    "plt.show()"
   ]
  },
  {
   "cell_type": "code",
   "execution_count": null,
   "id": "9e35533d",
   "metadata": {},
   "outputs": [],
   "source": [
    "print(counts)"
   ]
  },
  {
   "cell_type": "code",
   "execution_count": null,
   "id": "9bac4b44",
   "metadata": {},
   "outputs": [],
   "source": [
    "from imblearn.under_sampling import NearMiss\n",
    "\n",
    "nm = NearMiss()\n",
    "\n",
    "X_nm, y_nm = nm.fit_resample(X, y)"
   ]
  },
  {
   "cell_type": "code",
   "execution_count": null,
   "id": "2a2d7cad",
   "metadata": {},
   "outputs": [],
   "source": [
    "labels, counts = np.unique(y_nm, return_counts=True)\n",
    "labels = ['No Injury','Injury']\n",
    "\n",
    "plt.figure(figsize=(10, 10))\n",
    "plt.bar(labels,counts)\n",
    "plt.title('Dataset proportions')\n",
    "plt.xlabel(\"Player Injury (Yes/No)\")\n",
    "plt.ylabel(\"Count\")\n",
    "plt.show()"
   ]
  },
  {
   "cell_type": "code",
   "execution_count": null,
   "id": "f0ecf5a1",
   "metadata": {},
   "outputs": [],
   "source": [
    "from imblearn.over_sampling import ADASYN \n",
    "\n",
    "sm = ADASYN(random_state=42)\n",
    "X_a, y_a = sm.fit_resample(X, y)"
   ]
  },
  {
   "cell_type": "code",
   "execution_count": null,
   "id": "bff17b35",
   "metadata": {},
   "outputs": [],
   "source": [
    "labels, counts = np.unique(y_a, return_counts=True)\n",
    "labels = ['No Injury','Injury']\n",
    "\n",
    "plt.figure(figsize=(10, 10))\n",
    "plt.bar(labels,counts)\n",
    "plt.title('Dataset proportions')\n",
    "plt.xlabel(\"Player Injury (Yes/No)\")\n",
    "plt.ylabel(\"Count\")\n",
    "plt.show()"
   ]
  },
  {
   "cell_type": "markdown",
   "id": "c563619e",
   "metadata": {},
   "source": [
    "### Train/Test Split the Data"
   ]
  },
  {
   "cell_type": "markdown",
   "id": "6525fc20",
   "metadata": {},
   "source": [
    "#### Split Data Without Augmentation"
   ]
  },
  {
   "cell_type": "code",
   "execution_count": null,
   "id": "cbd80016",
   "metadata": {},
   "outputs": [],
   "source": [
    "# Split the data into training and test sets\n",
    "X_train, X_test, y_train, y_test = train_test_split(X, y, test_size=0.2,random_state=42, stratify=y)\n",
    "\n",
    "#Scale the features using StandardScaler\n",
    "scaler = StandardScaler()\n",
    "X_train_scaled = scaler.fit_transform(X_train)\n",
    "X_test_scaled = scaler.transform(X_test)"
   ]
  },
  {
   "cell_type": "markdown",
   "id": "25492c2f",
   "metadata": {},
   "source": [
    "#### Split Data with Undersampling"
   ]
  },
  {
   "cell_type": "code",
   "execution_count": null,
   "id": "f1d6952a",
   "metadata": {},
   "outputs": [],
   "source": [
    "# Split the data into training and test sets\n",
    "#X_train_nm, X_test_nm, y_train_nm, y_test_nm = train_test_split(X_nm, y_nm, test_size=0.2,random_state=42, stratify=y_nm)\n",
    "\n",
    "X_train_nm, y_train_nm = nm.fit_resample(X_train, y_train)\n",
    "\n",
    "#Scale the features using StandardScaler\n",
    "scaler = StandardScaler()\n",
    "X_train_scaled_nm = scaler.fit_transform(X_train_nm)"
   ]
  },
  {
   "cell_type": "markdown",
   "id": "b02e92ac",
   "metadata": {},
   "source": [
    "#### Split Data with Oversampling"
   ]
  },
  {
   "cell_type": "code",
   "execution_count": null,
   "id": "01eed918",
   "metadata": {},
   "outputs": [],
   "source": [
    "# Split the data into training and test sets\n",
    "#X_train_a, X_test_a, y_train_a, y_test_a = train_test_split(X_a, y_a, test_size=0.2,random_state=42, stratify=y_a)\n",
    "\n",
    "X_train_a, y_train_a = sm.fit_resample(X_train, y_train)\n",
    "\n",
    "#Scale the features using StandardScaler\n",
    "scaler = StandardScaler()\n",
    "X_train_scaled_a = scaler.fit_transform(X_train_a)\n",
    "#X_test_scaled_a = scaler.transform(X_test_a)"
   ]
  },
  {
   "cell_type": "code",
   "execution_count": null,
   "id": "0f9db3f1",
   "metadata": {},
   "outputs": [],
   "source": [
    "X_train.shape"
   ]
  },
  {
   "cell_type": "code",
   "execution_count": null,
   "id": "a333243e",
   "metadata": {},
   "outputs": [],
   "source": [
    "X_train_nm.shape"
   ]
  },
  {
   "cell_type": "code",
   "execution_count": null,
   "id": "f1b6ac93",
   "metadata": {},
   "outputs": [],
   "source": [
    "X_train_a.shape"
   ]
  },
  {
   "cell_type": "markdown",
   "id": "120e5e51",
   "metadata": {},
   "source": [
    "## Build Models with Undersampled Data"
   ]
  },
  {
   "cell_type": "markdown",
   "id": "211bd683",
   "metadata": {},
   "source": [
    "### KNN "
   ]
  },
  {
   "cell_type": "code",
   "execution_count": null,
   "id": "502ad307",
   "metadata": {},
   "outputs": [],
   "source": [
    "# Define K-NN model\n",
    "from sklearn.neighbors import KNeighborsClassifier\n",
    "knn = KNeighborsClassifier(n_neighbors = 4)"
   ]
  },
  {
   "cell_type": "code",
   "execution_count": null,
   "id": "a44fbb94",
   "metadata": {},
   "outputs": [],
   "source": [
    "# Fitting data to the K-NN model\n",
    "\n",
    "knn.fit(X_train_scaled_nm,y_train_nm)"
   ]
  },
  {
   "cell_type": "code",
   "execution_count": null,
   "id": "75d43398",
   "metadata": {},
   "outputs": [],
   "source": [
    "# Checking the performance of K-NN model on the training data\n",
    "y_pred_test_knn = knn.predict(X_test_scaled)\n",
    "\n",
    "knn_test = metrics_score(y_test, y_pred_test_knn,'KNN')"
   ]
  },
  {
   "cell_type": "code",
   "execution_count": null,
   "id": "441b630b",
   "metadata": {},
   "outputs": [],
   "source": [
    "results_testset_nm = knn_test\n",
    "results_testset_nm"
   ]
  },
  {
   "cell_type": "markdown",
   "id": "1e75417e",
   "metadata": {},
   "source": [
    "### Logistic Regression"
   ]
  },
  {
   "cell_type": "code",
   "execution_count": null,
   "id": "f112c96a",
   "metadata": {},
   "outputs": [],
   "source": [
    "lg = LogisticRegression(random_state=0).fit(X_train_scaled_nm, y_train_nm)\n",
    "y_pred_log = lg.predict(X_test_scaled)\n",
    "\n",
    "lg_test = metrics_score(y_test,y_pred_log,'Logistic Regression')"
   ]
  },
  {
   "cell_type": "code",
   "execution_count": null,
   "id": "22dd8a01",
   "metadata": {},
   "outputs": [],
   "source": [
    "results_testset_nm = results_testset_nm.append(lg_test, ignore_index = True)\n",
    "results_testset_nm"
   ]
  },
  {
   "cell_type": "markdown",
   "id": "ec52e036",
   "metadata": {},
   "source": [
    "### Decision Tree"
   ]
  },
  {
   "cell_type": "code",
   "execution_count": null,
   "id": "45af325a",
   "metadata": {},
   "outputs": [],
   "source": [
    "from sklearn.tree import DecisionTreeClassifier\n",
    "\n",
    "# Create Decision Tree classifer object\n",
    "dt = DecisionTreeClassifier(random_state = 1)\n",
    "\n",
    "# Train Decision Tree Classifer\n",
    "dt = dt.fit(X_train_nm,y_train_nm)\n",
    "\n",
    "#Predict the response for test dataset\n",
    "y_pred_dt = dt.predict(X_test)"
   ]
  },
  {
   "cell_type": "code",
   "execution_count": null,
   "id": "2c902971",
   "metadata": {},
   "outputs": [],
   "source": [
    "dt_test = metrics_score(y_test,y_pred_dt,'Decision Tree')"
   ]
  },
  {
   "cell_type": "code",
   "execution_count": null,
   "id": "26ce767f",
   "metadata": {},
   "outputs": [],
   "source": [
    "results_testset_nm= results_testset_nm.append(dt_test, ignore_index = True)\n",
    "results_testset_nm"
   ]
  },
  {
   "cell_type": "code",
   "execution_count": null,
   "id": "a2548705",
   "metadata": {},
   "outputs": [],
   "source": [
    "# Plot the feature importance\n",
    "\n",
    "importances = dt.feature_importances_\n",
    "\n",
    "columns = X.columns\n",
    "\n",
    "importance_df = pd.DataFrame(importances, index = columns, columns = ['Importance']).sort_values(by = 'Importance', ascending = False)\n",
    "\n",
    "plt.figure(figsize = (13, 13))\n",
    "\n",
    "sns.barplot(importance_df.Importance,importance_df.index)"
   ]
  },
  {
   "cell_type": "code",
   "execution_count": null,
   "id": "b4493410",
   "metadata": {},
   "outputs": [],
   "source": [
    "from sklearn.metrics import make_scorer\n",
    "# Choose the type of classifier\n",
    "dtree_estimator = DecisionTreeClassifier(random_state = 1)\n",
    "\n",
    "# Grid of parameters to choose from\n",
    "parameters = {'max_depth': np.arange(2, 7), \n",
    "              'criterion': ['gini', 'entropy'],\n",
    "              'min_samples_leaf': [5, 10, 20, 25]\n",
    "             }\n",
    "\n",
    "# Type of scoring used to compare parameter combinations\n",
    "scorer = make_scorer(recall_score, pos_label = 1)\n",
    "\n",
    "# Run the grid search\n",
    "gridCV = GridSearchCV(dtree_estimator, parameters, scoring = scorer, cv = 10)\n",
    "\n",
    "# Fitting the grid search on the train data\n",
    "gridCV = gridCV.fit(X_train_nm, y_train_nm)\n",
    "\n",
    "# Set the classifier to the best combination of parameters\n",
    "dtree_estimator = gridCV.best_estimator_\n",
    "\n",
    "# Fit the best estimator to the data\n",
    "dtree_estimator.fit(X_train_nm, y_train_nm)"
   ]
  },
  {
   "cell_type": "code",
   "execution_count": null,
   "id": "425dd6c4",
   "metadata": {},
   "outputs": [],
   "source": [
    "# Checking performance on the test dataset\n",
    "y_pred_dt_tuned = dtree_estimator.predict(X_test)\n",
    "\n",
    "dt_test_tuned = metrics_score(y_test, y_pred_dt_tuned,'Decision Tree Tuned')"
   ]
  },
  {
   "cell_type": "code",
   "execution_count": null,
   "id": "b556db34",
   "metadata": {},
   "outputs": [],
   "source": [
    "# Plot the feature importance\n",
    "\n",
    "importances = dtree_estimator.feature_importances_\n",
    "\n",
    "columns = X.columns\n",
    "\n",
    "importance_df = pd.DataFrame(importances, index = columns, columns = ['Importance']).sort_values(by = 'Importance', ascending = False)\n",
    "\n",
    "plt.figure(figsize = (13, 13))\n",
    "\n",
    "sns.barplot(importance_df.Importance,importance_df.index)"
   ]
  },
  {
   "cell_type": "code",
   "execution_count": null,
   "id": "ba1f8bb5",
   "metadata": {},
   "outputs": [],
   "source": [
    "results_testset_nm = results_testset_nm.append(dt_test_tuned, ignore_index = True)\n",
    "results_testset_nm"
   ]
  },
  {
   "cell_type": "markdown",
   "id": "f6fc0752",
   "metadata": {},
   "source": [
    "### Random Forest"
   ]
  },
  {
   "cell_type": "code",
   "execution_count": null,
   "id": "27623663",
   "metadata": {},
   "outputs": [],
   "source": [
    "from sklearn.ensemble import RandomForestClassifier\n",
    "\n",
    "# Create Random Forest classifer object\n",
    "rf = RandomForestClassifier(random_state = 1)\n",
    "\n",
    "# Train random forest\n",
    "rf.fit(X_train_nm,y_train_nm)  \n",
    "\n",
    "#Predict the response for test dataset\n",
    "y_pred_rf = rf.predict(X_test)"
   ]
  },
  {
   "cell_type": "code",
   "execution_count": null,
   "id": "8e99bf24",
   "metadata": {},
   "outputs": [],
   "source": [
    "rf_test = metrics_score(y_test,y_pred_rf,'Random Forest')"
   ]
  },
  {
   "cell_type": "code",
   "execution_count": null,
   "id": "41bb77ca",
   "metadata": {},
   "outputs": [],
   "source": [
    "# Plot the feature importance\n",
    "\n",
    "importances = rf.feature_importances_\n",
    "\n",
    "columns = X.columns\n",
    "\n",
    "importance_rf = pd.DataFrame(importances, index = columns, columns = ['Importance']).sort_values(by = 'Importance', ascending = False)\n",
    "\n",
    "plt.figure(figsize = (13, 13))\n",
    "\n",
    "sns.barplot(importance_rf.Importance,importance_rf.index)"
   ]
  },
  {
   "cell_type": "code",
   "execution_count": null,
   "id": "3a506c53",
   "metadata": {},
   "outputs": [],
   "source": [
    "results_testset_nm = results_testset_nm.append(rf_test, ignore_index = True)\n",
    "results_testset_nm"
   ]
  },
  {
   "cell_type": "code",
   "execution_count": null,
   "id": "a7cf3e98",
   "metadata": {},
   "outputs": [],
   "source": [
    "# Choose the type of classifier\n",
    "rf_estimator_tuned = RandomForestClassifier(random_state = 1)\n",
    "\n",
    "# Grid of parameters to choose from\n",
    "params_rf = {  \n",
    "        \"n_estimators\": [100, 250, 500],\n",
    "        \"min_samples_leaf\": np.arange(1, 4, 1),\n",
    "        \"max_features\": [0.7, 0.9, 'auto'],\n",
    "}\n",
    "\n",
    "\n",
    "# Type of scoring used to compare parameter combinations - recall score for class 1\n",
    "scorer = make_scorer(recall_score, pos_label = 1)\n",
    "\n",
    "# Run the grid search\n",
    "grid_obj = GridSearchCV(rf_estimator_tuned, params_rf, scoring = scorer, cv = 5)\n",
    "\n",
    "grid_obj = grid_obj.fit(X_train_nm, y_train_nm)\n",
    "\n",
    "# Set the classifier to the best combination of parameters\n",
    "rf_estimator_tuned = grid_obj.best_estimator_\n",
    "\n",
    "rf_estimator_tuned.fit(X_train_nm, y_train_nm)"
   ]
  },
  {
   "cell_type": "code",
   "execution_count": null,
   "id": "6407769f",
   "metadata": {},
   "outputs": [],
   "source": [
    "# Checking performance on the training data\n",
    "y_pred_train_rf_tuned = rf_estimator_tuned.predict(X_test)\n",
    "\n",
    "rf_test_tuned = metrics_score(y_test, y_pred_train_rf_tuned,\"Random Forest Tuned\")"
   ]
  },
  {
   "cell_type": "code",
   "execution_count": null,
   "id": "81f909fe",
   "metadata": {},
   "outputs": [],
   "source": [
    "# Plot the feature importance\n",
    "\n",
    "importances = rf_estimator_tuned.feature_importances_\n",
    "\n",
    "columns = X.columns\n",
    "\n",
    "importance_rf = pd.DataFrame(importances, index = columns, columns = ['Importance']).sort_values(by = 'Importance', ascending = False)\n",
    "\n",
    "plt.figure(figsize = (13, 13))\n",
    "\n",
    "sns.barplot(importance_rf.Importance,importance_rf.index)"
   ]
  },
  {
   "cell_type": "code",
   "execution_count": null,
   "id": "719ccfab",
   "metadata": {},
   "outputs": [],
   "source": [
    "results_testset_nm = results_testset_nm.append(rf_test_tuned, ignore_index = True)\n",
    "results_testset_nm"
   ]
  },
  {
   "cell_type": "markdown",
   "id": "3b3cf3fe",
   "metadata": {},
   "source": [
    "### XG Boost"
   ]
  },
  {
   "cell_type": "code",
   "execution_count": null,
   "id": "e5e08c19",
   "metadata": {},
   "outputs": [],
   "source": [
    "# Importing the XGBReressor from the xgboost\n",
    "from xgboost import XGBClassifier\n",
    "\n",
    "# XGBoost Regressor\n",
    "xgb = XGBClassifier(random_state = 1, eval_metric = 'logloss')\n",
    "\n",
    "# Fitting the model\n",
    "xgb.fit(X_train_nm,y_train_nm)\n",
    "\n",
    "# Checking performance on the training data\n",
    "y_pred_test_xg = xgb.predict(X_test)\n",
    "\n",
    "xg_test = metrics_score(y_test,y_pred_test_xg,'XGBoost')"
   ]
  },
  {
   "cell_type": "code",
   "execution_count": null,
   "id": "52a2bcb1",
   "metadata": {},
   "outputs": [],
   "source": [
    "# Plot the feature importance\n",
    "\n",
    "importances = xgb.feature_importances_\n",
    "\n",
    "columns = X.columns\n",
    "\n",
    "importance_rf = pd.DataFrame(importances, index = columns, columns = ['Importance']).sort_values(by = 'Importance', ascending = False)\n",
    "\n",
    "plt.figure(figsize = (13, 13))\n",
    "\n",
    "sns.barplot(importance_rf.Importance,importance_rf.index)"
   ]
  },
  {
   "cell_type": "code",
   "execution_count": null,
   "id": "2b417aa3",
   "metadata": {},
   "outputs": [],
   "source": [
    "results_testset_nm = results_testset_nm.append(xg_test, ignore_index = True)\n",
    "results_testset_nm"
   ]
  },
  {
   "cell_type": "markdown",
   "id": "c0554e7b",
   "metadata": {},
   "source": [
    "### AdaBoost"
   ]
  },
  {
   "cell_type": "code",
   "execution_count": null,
   "id": "5a94e677",
   "metadata": {},
   "outputs": [],
   "source": [
    "# Importing the Adaboost classifier\n",
    "from sklearn.ensemble import AdaBoostClassifier\n",
    "\n",
    "# Create adaboost classifer object\n",
    "abc = AdaBoostClassifier(n_estimators=50,\n",
    "                         learning_rate=1)\n",
    "# Train Adaboost Classifer\n",
    "abc.fit(X_train_nm, y_train_nm)\n",
    "\n",
    "#Predict the response for test dataset\n",
    "y_pred = abc.predict(X_test)\n",
    "\n",
    "a_test = metrics_score(y_test,y_pred,'AdaBoost')"
   ]
  },
  {
   "cell_type": "code",
   "execution_count": null,
   "id": "743d1b5e",
   "metadata": {},
   "outputs": [],
   "source": [
    "# Plot the feature importance\n",
    "\n",
    "importances = abc.feature_importances_\n",
    "\n",
    "columns = X.columns\n",
    "\n",
    "importance_rf = pd.DataFrame(importances, index = columns, columns = ['Importance']).sort_values(by = 'Importance', ascending = False)\n",
    "\n",
    "plt.figure(figsize = (13, 13))\n",
    "\n",
    "sns.barplot(importance_rf.Importance,importance_rf.index)"
   ]
  },
  {
   "cell_type": "code",
   "execution_count": null,
   "id": "261ed7ba",
   "metadata": {},
   "outputs": [],
   "source": [
    "results_testset_nm = results_testset_nm.append(a_test, ignore_index = True)\n",
    "results_testset_nm"
   ]
  },
  {
   "cell_type": "markdown",
   "id": "5439cd43",
   "metadata": {},
   "source": [
    "## Build Models without Data Augmentation"
   ]
  },
  {
   "cell_type": "markdown",
   "id": "3f71ab24",
   "metadata": {},
   "source": [
    "### KNN"
   ]
  },
  {
   "cell_type": "code",
   "execution_count": null,
   "id": "79d677aa",
   "metadata": {},
   "outputs": [],
   "source": [
    "# Define K-NN model\n",
    "\n",
    "knn = KNeighborsClassifier(n_neighbors = 4)"
   ]
  },
  {
   "cell_type": "code",
   "execution_count": null,
   "id": "97419a04",
   "metadata": {},
   "outputs": [],
   "source": [
    "# Fitting data to the K-NN model\n",
    "\n",
    "knn.fit(X_train_scaled,y_train)"
   ]
  },
  {
   "cell_type": "code",
   "execution_count": null,
   "id": "26413b1c",
   "metadata": {},
   "outputs": [],
   "source": [
    "# Checking the performance of K-NN model on the training data\n",
    "y_pred_test_knn = knn.predict(X_test_scaled)\n",
    "\n",
    "knn_test = metrics_score(y_test, y_pred_test_knn,'KNN')"
   ]
  },
  {
   "cell_type": "code",
   "execution_count": null,
   "id": "01742ba7",
   "metadata": {},
   "outputs": [],
   "source": [
    "results_testset = knn_test\n",
    "results_testset"
   ]
  },
  {
   "cell_type": "markdown",
   "id": "b1993e80",
   "metadata": {},
   "source": [
    "### Logistic Regression"
   ]
  },
  {
   "cell_type": "code",
   "execution_count": null,
   "id": "2b43fa81",
   "metadata": {},
   "outputs": [],
   "source": [
    "lg = LogisticRegression(random_state=0,class_weight='balanced').fit(X_train_scaled, y_train)\n",
    "y_pred_log = lg.predict(X_test_scaled)\n",
    "\n",
    "lg_test = metrics_score(y_test,y_pred_log,'Logistic Regression')"
   ]
  },
  {
   "cell_type": "code",
   "execution_count": null,
   "id": "9468a617",
   "metadata": {},
   "outputs": [],
   "source": [
    "results_testset = results_testset.append(lg_test, ignore_index = True)\n",
    "results_testset"
   ]
  },
  {
   "cell_type": "markdown",
   "id": "b8dbee6e",
   "metadata": {},
   "source": [
    "### Decision Tree"
   ]
  },
  {
   "cell_type": "code",
   "execution_count": null,
   "id": "2c050817",
   "metadata": {},
   "outputs": [],
   "source": [
    "# Create Decision Tree classifer object\n",
    "dt = DecisionTreeClassifier(random_state = 1,class_weight='balanced')\n",
    "\n",
    "# Train Decision Tree Classifer\n",
    "dt = dt.fit(X_train,y_train)\n",
    "\n",
    "#Predict the response for test dataset\n",
    "y_pred_dt = dt.predict(X_test)"
   ]
  },
  {
   "cell_type": "code",
   "execution_count": null,
   "id": "9ab2f370",
   "metadata": {},
   "outputs": [],
   "source": [
    "dt_test = metrics_score(y_test,y_pred_dt,'Decision Tree')"
   ]
  },
  {
   "cell_type": "code",
   "execution_count": null,
   "id": "dfe9d68c",
   "metadata": {},
   "outputs": [],
   "source": [
    "results_testset = results_testset.append(dt_test, ignore_index = True)\n",
    "results_testset"
   ]
  },
  {
   "cell_type": "code",
   "execution_count": null,
   "id": "9110c391",
   "metadata": {},
   "outputs": [],
   "source": [
    "# Choose the type of classifier\n",
    "dtree_estimator = DecisionTreeClassifier(random_state = 1,class_weight='balanced')\n",
    "\n",
    "# Grid of parameters to choose from\n",
    "parameters = {'max_depth': np.arange(2, 7), \n",
    "              'criterion': ['gini', 'entropy'],\n",
    "              'min_samples_leaf': [5, 10, 20, 25]\n",
    "             }\n",
    "\n",
    "# Type of scoring used to compare parameter combinations\n",
    "scorer = make_scorer(recall_score, pos_label = 1)\n",
    "\n",
    "# Run the grid search\n",
    "gridCV = GridSearchCV(dtree_estimator, parameters, scoring = scorer, cv = 10)\n",
    "\n",
    "# Fitting the grid search on the train data\n",
    "gridCV = gridCV.fit(X_train, y_train)\n",
    "\n",
    "# Set the classifier to the best combination of parameters\n",
    "dtree_estimator = gridCV.best_estimator_\n",
    "\n",
    "# Fit the best estimator to the data\n",
    "dtree_estimator.fit(X_train, y_train)"
   ]
  },
  {
   "cell_type": "code",
   "execution_count": null,
   "id": "7e5c04f8",
   "metadata": {},
   "outputs": [],
   "source": [
    "# Checking performance on the test dataset\n",
    "y_pred_dt_tuned = dtree_estimator.predict(X_test)\n",
    "\n",
    "dt_test_tuned = metrics_score(y_test, y_pred_dt_tuned,'Decision Tree Tuned')"
   ]
  },
  {
   "cell_type": "code",
   "execution_count": null,
   "id": "af906e68",
   "metadata": {},
   "outputs": [],
   "source": [
    "results_testset = results_testset.append(dt_test_tuned, ignore_index = True)\n",
    "results_testset"
   ]
  },
  {
   "cell_type": "code",
   "execution_count": null,
   "id": "4205bb4f",
   "metadata": {},
   "outputs": [],
   "source": [
    "# Plot the feature importance\n",
    "\n",
    "importances = dtree_estimator.feature_importances_\n",
    "\n",
    "columns = X.columns\n",
    "\n",
    "importance_df = pd.DataFrame(importances, index = columns, columns = ['Importance']).sort_values(by = 'Importance', ascending = False)\n",
    "\n",
    "plt.figure(figsize = (13, 13))\n",
    "\n",
    "sns.barplot(importance_df.Importance,importance_df.index)"
   ]
  },
  {
   "cell_type": "markdown",
   "id": "40b31573",
   "metadata": {},
   "source": [
    "### Random Forest"
   ]
  },
  {
   "cell_type": "code",
   "execution_count": null,
   "id": "525cc9ee",
   "metadata": {},
   "outputs": [],
   "source": [
    "# Create Random Forest classifer object\n",
    "rf = RandomForestClassifier(random_state = 1,class_weight='balanced')\n",
    "\n",
    "# Train random forest\n",
    "rf.fit(X_train,y_train)  \n",
    "\n",
    "#Predict the response for test dataset\n",
    "y_pred_rf = rf.predict(X_test)"
   ]
  },
  {
   "cell_type": "code",
   "execution_count": null,
   "id": "3e592afe",
   "metadata": {},
   "outputs": [],
   "source": [
    "rf_test = metrics_score(y_test,y_pred_rf,'Random Forest')"
   ]
  },
  {
   "cell_type": "code",
   "execution_count": null,
   "id": "4db32b9d",
   "metadata": {},
   "outputs": [],
   "source": [
    "results_testset = results_testset.append(rf_test, ignore_index = True)\n",
    "results_testset"
   ]
  },
  {
   "cell_type": "code",
   "execution_count": null,
   "id": "e6fc78ba",
   "metadata": {},
   "outputs": [],
   "source": [
    "# Choose the type of classifier\n",
    "rf_estimator_tuned = RandomForestClassifier(random_state = 1,class_weight='balanced')\n",
    "\n",
    "# Grid of parameters to choose from\n",
    "params_rf = {  \n",
    "        \"n_estimators\": [100, 250, 500],\n",
    "        \"min_samples_leaf\": np.arange(1, 4, 1),\n",
    "        \"max_features\": [0.7, 0.9, 'auto'],\n",
    "}\n",
    "\n",
    "\n",
    "# Type of scoring used to compare parameter combinations - recall score for class 1\n",
    "scorer = make_scorer(recall_score, pos_label = 1)\n",
    "\n",
    "# Run the grid search\n",
    "grid_obj = GridSearchCV(rf_estimator_tuned, params_rf, scoring = scorer, cv = 5)\n",
    "\n",
    "grid_obj = grid_obj.fit(X_train, y_train)\n",
    "\n",
    "# Set the classifier to the best combination of parameters\n",
    "rf_estimator_tuned = grid_obj.best_estimator_\n",
    "\n",
    "rf_estimator_tuned.fit(X_train, y_train)"
   ]
  },
  {
   "cell_type": "code",
   "execution_count": null,
   "id": "0c57e89c",
   "metadata": {},
   "outputs": [],
   "source": [
    "# Checking performance on the training data\n",
    "y_pred_train_rf_tuned = rf_estimator_tuned.predict(X_test)\n",
    "\n",
    "rf_test_tuned = metrics_score(y_test, y_pred_train_rf_tuned,\"Random Forest Tuned\")"
   ]
  },
  {
   "cell_type": "code",
   "execution_count": null,
   "id": "f638bd50",
   "metadata": {},
   "outputs": [],
   "source": [
    "# Plot the feature importance\n",
    "\n",
    "importances = rf_estimator_tuned.feature_importances_\n",
    "\n",
    "columns = X.columns\n",
    "\n",
    "importance_rf = pd.DataFrame(importances, index = columns, columns = ['Importance']).sort_values(by = 'Importance', ascending = False)\n",
    "\n",
    "plt.figure(figsize = (13, 13))\n",
    "\n",
    "sns.barplot(importance_rf.Importance,importance_rf.index)"
   ]
  },
  {
   "cell_type": "code",
   "execution_count": null,
   "id": "84b20f3e",
   "metadata": {},
   "outputs": [],
   "source": [
    "results_testset = results_testset.append(rf_test_tuned, ignore_index = True)\n",
    "results_testset"
   ]
  },
  {
   "cell_type": "markdown",
   "id": "b25451b1",
   "metadata": {},
   "source": [
    "### XGBoost"
   ]
  },
  {
   "cell_type": "code",
   "execution_count": null,
   "id": "61df9236",
   "metadata": {},
   "outputs": [],
   "source": [
    "from sklearn.utils.class_weight import compute_sample_weight\n",
    "weights = compute_sample_weight(class_weight='balanced', y=y_train)\n",
    "\n",
    "# XGBoost Classifier\n",
    "xgb = XGBClassifier(random_state = 1, eval_metric = 'logloss')\n",
    "\n",
    "# Fitting the model\n",
    "xgb.fit(X_train,y_train,sample_weight = weights)\n",
    "\n",
    "# Checking performance on the training data\n",
    "y_pred_test_xg = xgb.predict(X_test)\n",
    "\n",
    "xg_test = metrics_score(y_test,y_pred_test_xg,'XGBoost')"
   ]
  },
  {
   "cell_type": "code",
   "execution_count": null,
   "id": "b461b966",
   "metadata": {},
   "outputs": [],
   "source": [
    "results_testset = results_testset.append(xg_test, ignore_index = True)\n",
    "results_testset"
   ]
  },
  {
   "cell_type": "markdown",
   "id": "6d88c750",
   "metadata": {},
   "source": [
    "### AdaBoost"
   ]
  },
  {
   "cell_type": "code",
   "execution_count": null,
   "id": "2ccdde75",
   "metadata": {},
   "outputs": [],
   "source": [
    "# Importing the Adaboost classifier\n",
    "from sklearn.ensemble import AdaBoostClassifier\n",
    "\n",
    "# Create adaboost classifer object\n",
    "abc = AdaBoostClassifier(n_estimators=50,\n",
    "                         learning_rate=1)\n",
    "# Train Adaboost Classifer\n",
    "abc.fit(X_train, y_train,sample_weight=weights)\n",
    "\n",
    "#Predict the response for test dataset\n",
    "y_pred = abc.predict(X_test)\n",
    "\n",
    "a_test = metrics_score(y_test,y_pred,'AdaBoost')"
   ]
  },
  {
   "cell_type": "code",
   "execution_count": null,
   "id": "c9344702",
   "metadata": {},
   "outputs": [],
   "source": [
    "# Plot the feature importance\n",
    "\n",
    "importances = abc.feature_importances_\n",
    "\n",
    "columns = X.columns\n",
    "\n",
    "importance_rf = pd.DataFrame(importances, index = columns, columns = ['Importance']).sort_values(by = 'Importance', ascending = False)\n",
    "\n",
    "plt.figure(figsize = (13, 13))\n",
    "\n",
    "sns.barplot(importance_rf.Importance,importance_rf.index)"
   ]
  },
  {
   "cell_type": "code",
   "execution_count": null,
   "id": "de98dc63",
   "metadata": {},
   "outputs": [],
   "source": [
    "results_testset = results_testset.append(a_test, ignore_index = True)\n",
    "results_testset"
   ]
  },
  {
   "cell_type": "markdown",
   "id": "61dc9550",
   "metadata": {},
   "source": [
    "## Build Models with Oversampled Data"
   ]
  },
  {
   "cell_type": "markdown",
   "id": "ead1d278",
   "metadata": {},
   "source": [
    "### KNN"
   ]
  },
  {
   "cell_type": "code",
   "execution_count": null,
   "id": "d012392b",
   "metadata": {},
   "outputs": [],
   "source": [
    "knn = KNeighborsClassifier(n_neighbors = 4)"
   ]
  },
  {
   "cell_type": "code",
   "execution_count": null,
   "id": "a14fdf34",
   "metadata": {},
   "outputs": [],
   "source": [
    "# Fitting data to the K-NN model\n",
    "\n",
    "knn.fit(X_train_scaled_a,y_train_a)"
   ]
  },
  {
   "cell_type": "code",
   "execution_count": null,
   "id": "978aff4e",
   "metadata": {},
   "outputs": [],
   "source": [
    "# Checking the performance of K-NN model on the training data\n",
    "y_pred_test_knn = knn.predict(X_test_scaled)\n",
    "\n",
    "knn_test = metrics_score(y_test, y_pred_test_knn,'KNN')"
   ]
  },
  {
   "cell_type": "code",
   "execution_count": null,
   "id": "b9de53cc",
   "metadata": {},
   "outputs": [],
   "source": [
    "results_testset_a = knn_test\n",
    "results_testset_a"
   ]
  },
  {
   "cell_type": "markdown",
   "id": "1b8eccaa",
   "metadata": {},
   "source": [
    "### Logistic Regression"
   ]
  },
  {
   "cell_type": "code",
   "execution_count": null,
   "id": "8884c64a",
   "metadata": {},
   "outputs": [],
   "source": [
    "lg = LogisticRegression(random_state=0).fit(X_train_scaled_a, y_train_a)\n",
    "y_pred_log = lg.predict(X_test_scaled)\n",
    "\n",
    "lg_test = metrics_score(y_test,y_pred_log,'Logistic Regression')"
   ]
  },
  {
   "cell_type": "code",
   "execution_count": null,
   "id": "6214af04",
   "metadata": {},
   "outputs": [],
   "source": [
    "results_testset_a = results_testset_a.append(lg_test, ignore_index = True)\n",
    "results_testset_a"
   ]
  },
  {
   "cell_type": "markdown",
   "id": "bac23f3b",
   "metadata": {},
   "source": [
    "### Decision Tree"
   ]
  },
  {
   "cell_type": "code",
   "execution_count": null,
   "id": "fdab4388",
   "metadata": {},
   "outputs": [],
   "source": [
    "# Create Decision Tree classifer object\n",
    "dt = DecisionTreeClassifier(random_state = 1)\n",
    "\n",
    "# Train Decision Tree Classifer\n",
    "dt = dt.fit(X_train_a,y_train_a)\n",
    "\n",
    "#Predict the response for test dataset\n",
    "y_pred_dt = dt.predict(X_test)"
   ]
  },
  {
   "cell_type": "code",
   "execution_count": null,
   "id": "988eeb9f",
   "metadata": {},
   "outputs": [],
   "source": [
    "dt_test = metrics_score(y_test,y_pred_dt,'Decision Tree')"
   ]
  },
  {
   "cell_type": "code",
   "execution_count": null,
   "id": "5a6f5c44",
   "metadata": {},
   "outputs": [],
   "source": [
    "results_testset_a = results_testset_a.append(dt_test, ignore_index = True)\n",
    "results_testset_a"
   ]
  },
  {
   "cell_type": "code",
   "execution_count": null,
   "id": "1ff93a97",
   "metadata": {},
   "outputs": [],
   "source": [
    "# Plot the feature importance\n",
    "\n",
    "importances = dt.feature_importances_\n",
    "\n",
    "columns = X.columns\n",
    "\n",
    "importance_df = pd.DataFrame(importances, index = columns, columns = ['Importance']).sort_values(by = 'Importance', ascending = False)\n",
    "\n",
    "plt.figure(figsize = (13, 13))\n",
    "\n",
    "sns.barplot(importance_df.Importance,importance_df.index)"
   ]
  },
  {
   "cell_type": "markdown",
   "id": "f360a9f7",
   "metadata": {},
   "source": [
    "### Random Forest"
   ]
  },
  {
   "cell_type": "code",
   "execution_count": null,
   "id": "d05d8c7e",
   "metadata": {},
   "outputs": [],
   "source": [
    "# Create Random Forest classifer object\n",
    "rf = RandomForestClassifier(random_state = 1)\n",
    "\n",
    "# Train random forest\n",
    "rf.fit(X_train_a,y_train_a)  \n",
    "\n",
    "#Predict the response for test dataset\n",
    "y_pred_rf = rf.predict(X_test)"
   ]
  },
  {
   "cell_type": "code",
   "execution_count": null,
   "id": "53abb759",
   "metadata": {},
   "outputs": [],
   "source": [
    "rf_test = metrics_score(y_test,y_pred_rf,'Random Forest')"
   ]
  },
  {
   "cell_type": "code",
   "execution_count": null,
   "id": "63ebb130",
   "metadata": {},
   "outputs": [],
   "source": [
    "results_testset_a = results_testset_a.append(rf_test, ignore_index = True)\n",
    "results_testset_a"
   ]
  },
  {
   "cell_type": "code",
   "execution_count": null,
   "id": "0d8f64f4",
   "metadata": {},
   "outputs": [],
   "source": [
    "# Plot the feature importance\n",
    "\n",
    "importances = rf.feature_importances_\n",
    "\n",
    "columns = X.columns\n",
    "\n",
    "importance_rf = pd.DataFrame(importances, index = columns, columns = ['Importance']).sort_values(by = 'Importance', ascending = False)\n",
    "\n",
    "plt.figure(figsize = (13, 13))\n",
    "\n",
    "sns.barplot(importance_rf.Importance,importance_rf.index)"
   ]
  },
  {
   "cell_type": "markdown",
   "id": "ceafaa83",
   "metadata": {},
   "source": [
    "### XGBoost"
   ]
  },
  {
   "cell_type": "code",
   "execution_count": null,
   "id": "8eacb39c",
   "metadata": {},
   "outputs": [],
   "source": [
    "# XGBoost Classifier\n",
    "xgb = XGBClassifier(random_state = 1, eval_metric = 'logloss')\n",
    "\n",
    "# Fitting the model\n",
    "xgb.fit(X_train_a,y_train_a)\n",
    "\n",
    "# Checking performance on the training data\n",
    "y_pred_test_xg = xgb.predict(X_test)\n",
    "\n",
    "xg_test = metrics_score(y_test,y_pred_test_xg,'XGBoost')"
   ]
  },
  {
   "cell_type": "code",
   "execution_count": null,
   "id": "277c2faf",
   "metadata": {},
   "outputs": [],
   "source": [
    "results_testset_a = results_testset_a.append(xg_test, ignore_index = True)\n",
    "results_testset_a"
   ]
  },
  {
   "cell_type": "markdown",
   "id": "ba1ff7a7",
   "metadata": {},
   "source": [
    "### AdaBoost"
   ]
  },
  {
   "cell_type": "code",
   "execution_count": null,
   "id": "24197088",
   "metadata": {},
   "outputs": [],
   "source": [
    "# Importing the Adaboost classifier\n",
    "from sklearn.ensemble import AdaBoostClassifier\n",
    "\n",
    "# Create adaboost classifer object\n",
    "abc = AdaBoostClassifier(n_estimators=50,\n",
    "                         learning_rate=1)\n",
    "# Train Adaboost Classifer\n",
    "abc.fit(X_train_a, y_train_a)\n",
    "\n",
    "#Predict the response for test dataset\n",
    "y_pred = abc.predict(X_test)\n",
    "\n",
    "a_test = metrics_score(y_test,y_pred,'AdaBoost')"
   ]
  },
  {
   "cell_type": "code",
   "execution_count": null,
   "id": "851c4410",
   "metadata": {},
   "outputs": [],
   "source": [
    "# Plot the feature importance\n",
    "\n",
    "importances = abc.feature_importances_\n",
    "\n",
    "columns = X.columns\n",
    "\n",
    "importance_rf = pd.DataFrame(importances, index = columns, columns = ['Importance']).sort_values(by = 'Importance', ascending = False)\n",
    "\n",
    "plt.figure(figsize = (13, 13))\n",
    "\n",
    "sns.barplot(importance_rf.Importance,importance_rf.index)"
   ]
  },
  {
   "cell_type": "code",
   "execution_count": null,
   "id": "68691668",
   "metadata": {},
   "outputs": [],
   "source": [
    "results_testset_a = results_testset_a.append(a_test, ignore_index = True)\n",
    "results_testset_a"
   ]
  },
  {
   "cell_type": "markdown",
   "id": "5ac34e5e",
   "metadata": {},
   "source": [
    "## Exploring Neural Networks"
   ]
  },
  {
   "cell_type": "markdown",
   "id": "8272f675",
   "metadata": {},
   "source": [
    "### Begin without Data Augmentation"
   ]
  },
  {
   "cell_type": "code",
   "execution_count": null,
   "id": "5dc194fb",
   "metadata": {},
   "outputs": [],
   "source": [
    "from keras.models import Sequential\n",
    "from keras.layers import Dense\n",
    "from keras.layers import Dropout\n",
    "from keras.layers import BatchNormalization\n",
    "\n",
    "model = Sequential([\n",
    "    Dense(units=16, input_dim = 41,activation='relu'),\n",
    "    BatchNormalization(),\n",
    "    Dense(units=24,activation='relu'),\n",
    "    Dense(24,activation='relu'),\n",
    "    Dropout(0.5),\n",
    "    Dense(24,activation='relu'),\n",
    "    Dense(1,activation='sigmoid'),                        # binary classification injury or not\n",
    "])"
   ]
  },
  {
   "cell_type": "code",
   "execution_count": null,
   "id": "8855536a",
   "metadata": {},
   "outputs": [],
   "source": [
    "model.summary()"
   ]
  },
  {
   "cell_type": "code",
   "execution_count": null,
   "id": "4df1becf",
   "metadata": {},
   "outputs": [],
   "source": [
    "model.compile(optimizer='adam',loss='binary_crossentropy',metrics=['accuracy'])\n",
    "model.fit(X_train,y_train,batch_size=15,epochs=5,validation_split=0.1,verbose=1)"
   ]
  },
  {
   "cell_type": "code",
   "execution_count": null,
   "id": "639769f3",
   "metadata": {},
   "outputs": [],
   "source": [
    "score = model.evaluate(X_test, y_test)\n",
    "print(score)"
   ]
  },
  {
   "cell_type": "code",
   "execution_count": null,
   "id": "58e9f516",
   "metadata": {},
   "outputs": [],
   "source": [
    "#Predict the response for test dataset\n",
    "y_pred_nn = model.predict(X_test)"
   ]
  },
  {
   "cell_type": "code",
   "execution_count": null,
   "id": "146aa0f0",
   "metadata": {},
   "outputs": [],
   "source": [
    "for i in range(len(y_test)):\n",
    "    if y_pred_nn[i]>0.5:\n",
    "        y_pred_nn[i]=1 \n",
    "    else:\n",
    "        y_pred_nn[i]=0"
   ]
  },
  {
   "cell_type": "code",
   "execution_count": null,
   "id": "002d4764",
   "metadata": {},
   "outputs": [],
   "source": [
    "nn_test = metrics_score(y_test,y_pred_nn,'Basic Neural Network')"
   ]
  },
  {
   "cell_type": "code",
   "execution_count": null,
   "id": "c10185fb",
   "metadata": {},
   "outputs": [],
   "source": [
    "nn_testset = nn_test\n",
    "nn_testset"
   ]
  },
  {
   "cell_type": "markdown",
   "id": "75dbd24f",
   "metadata": {},
   "source": [
    "### Try to add weighted loss to account for imbalanced data"
   ]
  },
  {
   "cell_type": "code",
   "execution_count": null,
   "id": "0fabdfa1",
   "metadata": {},
   "outputs": [],
   "source": [
    "from sklearn.utils.class_weight import compute_class_weight\n",
    "class_weights = compute_class_weight(class_weight = \"balanced\", classes= np.unique(y_train), y= y_train)"
   ]
  },
  {
   "cell_type": "code",
   "execution_count": null,
   "id": "67794fee",
   "metadata": {},
   "outputs": [],
   "source": [
    "class_weights = dict(enumerate(class_weights))\n",
    "class_weights"
   ]
  },
  {
   "cell_type": "code",
   "execution_count": null,
   "id": "59367b63",
   "metadata": {},
   "outputs": [],
   "source": [
    "model.fit(X_train,y_train,batch_size=15,epochs=5,class_weight=class_weights, shuffle=True,validation_split=0.1,verbose=1)"
   ]
  },
  {
   "cell_type": "code",
   "execution_count": null,
   "id": "c2b5846b",
   "metadata": {},
   "outputs": [],
   "source": [
    "score_weighted = model.evaluate(X_test, y_test)"
   ]
  },
  {
   "cell_type": "code",
   "execution_count": null,
   "id": "5ecafa55",
   "metadata": {},
   "outputs": [],
   "source": [
    "#Predict the response for test dataset\n",
    "y_pred_nn = model.predict(X_test)"
   ]
  },
  {
   "cell_type": "code",
   "execution_count": null,
   "id": "f95a0899",
   "metadata": {},
   "outputs": [],
   "source": [
    "for i in range(len(y_test)):\n",
    "    if y_pred_nn[i]>0.5:\n",
    "        y_pred_nn[i]=1 \n",
    "    else:\n",
    "        y_pred_nn[i]=0"
   ]
  },
  {
   "cell_type": "code",
   "execution_count": null,
   "id": "de8767d6",
   "metadata": {},
   "outputs": [],
   "source": [
    "nn_test = metrics_score(y_test,y_pred_nn,'Weighted Neural Network')"
   ]
  },
  {
   "cell_type": "code",
   "execution_count": null,
   "id": "4907fc47",
   "metadata": {},
   "outputs": [],
   "source": [
    "nn_testset = nn_testset.append(nn_test, ignore_index = True)\n",
    "nn_testset "
   ]
  },
  {
   "cell_type": "markdown",
   "id": "ef3fae73",
   "metadata": {},
   "source": [
    "### Try ANN with Undersampled Data"
   ]
  },
  {
   "cell_type": "code",
   "execution_count": null,
   "id": "8f730408",
   "metadata": {},
   "outputs": [],
   "source": [
    "model.compile(optimizer='adam',loss='binary_crossentropy',metrics=['accuracy'])\n",
    "model.fit(X_train_nm,y_train_nm,batch_size=15,epochs=5,validation_split=0.1,verbose=1)"
   ]
  },
  {
   "cell_type": "code",
   "execution_count": null,
   "id": "7dc70655",
   "metadata": {},
   "outputs": [],
   "source": [
    "#Predict the response for test dataset\n",
    "y_pred_nn = model.predict(X_test)"
   ]
  },
  {
   "cell_type": "code",
   "execution_count": null,
   "id": "ad84e490",
   "metadata": {},
   "outputs": [],
   "source": [
    "for i in range(len(y_test)):\n",
    "    if y_pred_nn[i]>0.5:\n",
    "        y_pred_nn[i]=1 \n",
    "    else:\n",
    "        y_pred_nn[i]=0"
   ]
  },
  {
   "cell_type": "code",
   "execution_count": null,
   "id": "2ea95e1e",
   "metadata": {},
   "outputs": [],
   "source": [
    "nn_test = metrics_score(y_test,y_pred_nn,'Undersampled Neural Network')"
   ]
  },
  {
   "cell_type": "code",
   "execution_count": null,
   "id": "e8858146",
   "metadata": {},
   "outputs": [],
   "source": [
    "nn_testset = nn_testset.append(nn_test, ignore_index = True)\n",
    "nn_testset "
   ]
  },
  {
   "cell_type": "markdown",
   "id": "61d14a4e",
   "metadata": {},
   "source": [
    "### Oversampled Neural Network"
   ]
  },
  {
   "cell_type": "code",
   "execution_count": null,
   "id": "de959058",
   "metadata": {},
   "outputs": [],
   "source": [
    "model.compile(optimizer='adam',loss='binary_crossentropy',metrics=['accuracy'])\n",
    "model.fit(X_train_a,y_train_a,batch_size=15,epochs=5,validation_split=0.1,verbose=1)"
   ]
  },
  {
   "cell_type": "code",
   "execution_count": null,
   "id": "75c1d72d",
   "metadata": {},
   "outputs": [],
   "source": [
    "#Predict the response for test dataset\n",
    "y_pred_nn = model.predict(X_test)"
   ]
  },
  {
   "cell_type": "code",
   "execution_count": null,
   "id": "3c097ba8",
   "metadata": {},
   "outputs": [],
   "source": [
    "for i in range(len(y_test)):\n",
    "    if y_pred_nn[i]>0.5:\n",
    "        y_pred_nn[i]=1 \n",
    "    else:\n",
    "        y_pred_nn[i]=0"
   ]
  },
  {
   "cell_type": "code",
   "execution_count": null,
   "id": "22f15d6d",
   "metadata": {},
   "outputs": [],
   "source": [
    "nn_test = metrics_score(y_test,y_pred_nn,'Oversampled Neural Network')"
   ]
  },
  {
   "cell_type": "code",
   "execution_count": null,
   "id": "1986e161",
   "metadata": {},
   "outputs": [],
   "source": [
    "nn_testset = nn_testset.append(nn_test, ignore_index = True)\n",
    "nn_testset "
   ]
  },
  {
   "cell_type": "markdown",
   "id": "76531288",
   "metadata": {},
   "source": [
    "### Build CNN"
   ]
  },
  {
   "cell_type": "code",
   "execution_count": null,
   "id": "05acad32",
   "metadata": {},
   "outputs": [],
   "source": [
    "from tensorflow.keras.models import Sequential\n",
    "from tensorflow.keras.layers import Conv1D, Dense, MaxPooling1D, Flatten, Reshape\n",
    "from tensorflow.keras.optimizers import Adam\n",
    "\n",
    "model = Sequential()\n",
    "model.add(Conv1D(64, 3, activation='relu', input_shape=(41, 1)))\n",
    "model.add(BatchNormalization())\n",
    "model.add(MaxPooling1D(2))\n",
    "model.add(Conv1D(64, 3, activation='relu'))\n",
    "model.add(MaxPooling1D(2))\n",
    "model.add(Flatten())\n",
    "model.add(Dense(64, activation='relu'))\n",
    "model.add(Dense(1, activation='sigmoid'))\n",
    "\n",
    "model.compile(Adam(lr=.0001), loss='binary_crossentropy', metrics=['accuracy'])"
   ]
  },
  {
   "cell_type": "code",
   "execution_count": null,
   "id": "abc40e69",
   "metadata": {},
   "outputs": [],
   "source": [
    "model.summary()"
   ]
  },
  {
   "cell_type": "code",
   "execution_count": null,
   "id": "f9a08696",
   "metadata": {},
   "outputs": [],
   "source": [
    "model.fit(X_train,y_train,batch_size=15,epochs=5,validation_split=0.1,verbose=1)"
   ]
  },
  {
   "cell_type": "code",
   "execution_count": null,
   "id": "705a1433",
   "metadata": {},
   "outputs": [],
   "source": [
    "#Predict the response for test dataset\n",
    "y_pred_nn = model.predict(X_test)"
   ]
  },
  {
   "cell_type": "code",
   "execution_count": null,
   "id": "0e0a831b",
   "metadata": {},
   "outputs": [],
   "source": [
    "for i in range(len(y_test)):\n",
    "    if y_pred_nn[i]>0.5:\n",
    "        y_pred_nn[i]=1 \n",
    "    else:\n",
    "        y_pred_nn[i]=0"
   ]
  },
  {
   "cell_type": "code",
   "execution_count": null,
   "id": "5de5e306",
   "metadata": {},
   "outputs": [],
   "source": [
    "cnn_test = metrics_score(y_test,y_pred_nn,'Convolutional Neural Network')"
   ]
  },
  {
   "cell_type": "code",
   "execution_count": null,
   "id": "e9dbe17a",
   "metadata": {},
   "outputs": [],
   "source": [
    "cnn_testset = cnn_test\n",
    "cnn_testset"
   ]
  },
  {
   "cell_type": "markdown",
   "id": "4de864b6",
   "metadata": {},
   "source": [
    "### Weighted CNN"
   ]
  },
  {
   "cell_type": "code",
   "execution_count": null,
   "id": "fb7f76ad",
   "metadata": {},
   "outputs": [],
   "source": [
    "model.fit(X_train,y_train,batch_size=15,epochs=5,class_weight=class_weights,validation_split=0.1,verbose=1)"
   ]
  },
  {
   "cell_type": "code",
   "execution_count": null,
   "id": "f528fec9",
   "metadata": {},
   "outputs": [],
   "source": [
    "#Predict the response for test dataset\n",
    "y_pred_nn = model.predict(X_test)"
   ]
  },
  {
   "cell_type": "code",
   "execution_count": null,
   "id": "23290197",
   "metadata": {},
   "outputs": [],
   "source": [
    "for i in range(len(y_test)):\n",
    "    if y_pred_nn[i]>0.5:\n",
    "        y_pred_nn[i]=1 \n",
    "    else:\n",
    "        y_pred_nn[i]=0"
   ]
  },
  {
   "cell_type": "code",
   "execution_count": null,
   "id": "e23f60d5",
   "metadata": {},
   "outputs": [],
   "source": [
    "cnn_test = metrics_score(y_test,y_pred_nn,'Weighted Convolutional Neural Network')"
   ]
  },
  {
   "cell_type": "code",
   "execution_count": null,
   "id": "8095d099",
   "metadata": {},
   "outputs": [],
   "source": [
    "cnn_testset = cnn_testset.append(cnn_test, ignore_index = True)\n",
    "cnn_testset "
   ]
  },
  {
   "cell_type": "markdown",
   "id": "40022ff6",
   "metadata": {},
   "source": [
    "### Undersampled CNN"
   ]
  },
  {
   "cell_type": "code",
   "execution_count": null,
   "id": "2d5b5de2",
   "metadata": {},
   "outputs": [],
   "source": [
    "model.compile(optimizer='adam',loss='binary_crossentropy',metrics=['accuracy'])\n",
    "model.fit(X_train_nm,y_train_nm,batch_size=15,epochs=5,validation_split=0.1,verbose=1)"
   ]
  },
  {
   "cell_type": "code",
   "execution_count": null,
   "id": "5e81ce39",
   "metadata": {},
   "outputs": [],
   "source": [
    "#Predict the response for test dataset\n",
    "y_pred_nn = model.predict(X_test)"
   ]
  },
  {
   "cell_type": "code",
   "execution_count": null,
   "id": "97bb29bb",
   "metadata": {},
   "outputs": [],
   "source": [
    "for i in range(len(y_test)):\n",
    "    if y_pred_nn[i]>0.5:\n",
    "        y_pred_nn[i]=1 \n",
    "    else:\n",
    "        y_pred_nn[i]=0"
   ]
  },
  {
   "cell_type": "code",
   "execution_count": null,
   "id": "ec842739",
   "metadata": {},
   "outputs": [],
   "source": [
    "cnn_test = metrics_score(y_test,y_pred_nn,'Undersampled Convolutional Neural Network')"
   ]
  },
  {
   "cell_type": "code",
   "execution_count": null,
   "id": "8d505c1e",
   "metadata": {},
   "outputs": [],
   "source": [
    "cnn_testset = cnn_testset.append(cnn_test, ignore_index = True)\n",
    "cnn_testset "
   ]
  },
  {
   "cell_type": "markdown",
   "id": "e8c8982e",
   "metadata": {},
   "source": [
    "### Oversampled CNN"
   ]
  },
  {
   "cell_type": "code",
   "execution_count": null,
   "id": "b6660c88",
   "metadata": {},
   "outputs": [],
   "source": [
    "model.compile(optimizer='adam',loss='binary_crossentropy',metrics=['accuracy'])\n",
    "model.fit(X_train_a,y_train_a,batch_size=15,epochs=5,validation_split=0.1,verbose=1)"
   ]
  },
  {
   "cell_type": "code",
   "execution_count": null,
   "id": "e560e83c",
   "metadata": {},
   "outputs": [],
   "source": [
    "#Predict the response for test dataset\n",
    "y_pred_nn = model.predict(X_test)"
   ]
  },
  {
   "cell_type": "code",
   "execution_count": null,
   "id": "ab5d64dd",
   "metadata": {},
   "outputs": [],
   "source": [
    "for i in range(len(y_test)):\n",
    "    if y_pred_nn[i]>0.5:\n",
    "        y_pred_nn[i]=1 \n",
    "    else:\n",
    "        y_pred_nn[i]=0"
   ]
  },
  {
   "cell_type": "code",
   "execution_count": null,
   "id": "586e99f6",
   "metadata": {},
   "outputs": [],
   "source": [
    "cnn_test = metrics_score(y_test,y_pred_nn,'Oversampled Convolutional Neural Network')"
   ]
  },
  {
   "cell_type": "code",
   "execution_count": null,
   "id": "57ce4ba0",
   "metadata": {},
   "outputs": [],
   "source": [
    "cnn_testset = cnn_testset.append(cnn_test, ignore_index = True)\n",
    "cnn_testset "
   ]
  },
  {
   "cell_type": "markdown",
   "id": "551d6276",
   "metadata": {},
   "source": [
    "### Build GRU RNN"
   ]
  },
  {
   "cell_type": "code",
   "execution_count": null,
   "id": "0093e5a9",
   "metadata": {},
   "outputs": [],
   "source": [
    "import tensorflow as tf\n",
    "from tensorflow import keras\n",
    "from tensorflow.keras import layers\n",
    "\n",
    "model = keras.Sequential()\n",
    "model.add(layers.GRU(64, input_shape=(41,1)))\n",
    "model.add(BatchNormalization())\n",
    "model.add(Dense(64, activation='relu'))\n",
    "model.add(Dense(1, activation='sigmoid'))\n",
    "print(model.summary())"
   ]
  },
  {
   "cell_type": "code",
   "execution_count": null,
   "id": "4211a808",
   "metadata": {},
   "outputs": [],
   "source": [
    "model.compile(Adam(lr=.0001), loss='binary_crossentropy', metrics=['accuracy'])"
   ]
  },
  {
   "cell_type": "code",
   "execution_count": null,
   "id": "5534f711",
   "metadata": {},
   "outputs": [],
   "source": [
    "model.fit(X_train,y_train,batch_size=15,epochs=5,validation_split=0.1,verbose=1)"
   ]
  },
  {
   "cell_type": "code",
   "execution_count": null,
   "id": "c3ca2675",
   "metadata": {},
   "outputs": [],
   "source": [
    "#Predict the response for test dataset\n",
    "y_pred_nn = model.predict(X_test)"
   ]
  },
  {
   "cell_type": "code",
   "execution_count": null,
   "id": "0f0ffebc",
   "metadata": {},
   "outputs": [],
   "source": [
    "for i in range(len(y_test)):\n",
    "    if y_pred_nn[i]>0.5:\n",
    "        y_pred_nn[i]=1 \n",
    "    else:\n",
    "        y_pred_nn[i]=0"
   ]
  },
  {
   "cell_type": "code",
   "execution_count": null,
   "id": "a3f274de",
   "metadata": {},
   "outputs": [],
   "source": [
    "gru_test = metrics_score(y_test,y_pred_nn,'GRU RNN')"
   ]
  },
  {
   "cell_type": "code",
   "execution_count": null,
   "id": "83d434c8",
   "metadata": {},
   "outputs": [],
   "source": [
    "gru_testset = gru_test\n",
    "gru_testset"
   ]
  },
  {
   "cell_type": "markdown",
   "id": "7868afc6",
   "metadata": {},
   "source": [
    "### Undersampled GRU"
   ]
  },
  {
   "cell_type": "code",
   "execution_count": null,
   "id": "811d3224",
   "metadata": {},
   "outputs": [],
   "source": [
    "model.compile(optimizer='adam',loss='binary_crossentropy',metrics=['accuracy'])\n",
    "model.fit(X_train_nm,y_train_nm,batch_size=15,epochs=5,validation_split=0.1,verbose=1)"
   ]
  },
  {
   "cell_type": "code",
   "execution_count": null,
   "id": "4ee06983",
   "metadata": {},
   "outputs": [],
   "source": [
    "#Predict the response for test dataset\n",
    "y_pred_nn = model.predict(X_test)"
   ]
  },
  {
   "cell_type": "code",
   "execution_count": null,
   "id": "3cdd67a6",
   "metadata": {},
   "outputs": [],
   "source": [
    "for i in range(len(y_test)):\n",
    "    if y_pred_nn[i]>0.5:\n",
    "        y_pred_nn[i]=1 \n",
    "    else:\n",
    "        y_pred_nn[i]=0"
   ]
  },
  {
   "cell_type": "code",
   "execution_count": null,
   "id": "24e80f09",
   "metadata": {},
   "outputs": [],
   "source": [
    "gru_test = metrics_score(y_test,y_pred_nn,'Undersampled GRU RNN')"
   ]
  },
  {
   "cell_type": "code",
   "execution_count": null,
   "id": "8df0fe22",
   "metadata": {},
   "outputs": [],
   "source": [
    "gru_testset = gru_testset.append(gru_test, ignore_index = True)\n",
    "gru_testset "
   ]
  },
  {
   "cell_type": "markdown",
   "id": "83dfe2e7",
   "metadata": {},
   "source": [
    "### Oversampled GRU"
   ]
  },
  {
   "cell_type": "code",
   "execution_count": null,
   "id": "231c89fc",
   "metadata": {},
   "outputs": [],
   "source": [
    "model.compile(optimizer='adam',loss='binary_crossentropy',metrics=['accuracy'])\n",
    "model.fit(X_train_a,y_train_a,batch_size=15,epochs=5,validation_split=0.1,verbose=1)"
   ]
  },
  {
   "cell_type": "code",
   "execution_count": null,
   "id": "abd75d5d",
   "metadata": {},
   "outputs": [],
   "source": [
    "#Predict the response for test dataset\n",
    "y_pred_nn = model.predict(X_test)"
   ]
  },
  {
   "cell_type": "code",
   "execution_count": null,
   "id": "f83676d2",
   "metadata": {},
   "outputs": [],
   "source": [
    "for i in range(len(y_test)):\n",
    "    if y_pred_nn[i]>0.5:\n",
    "        y_pred_nn[i]=1 \n",
    "    else:\n",
    "        y_pred_nn[i]=0"
   ]
  },
  {
   "cell_type": "code",
   "execution_count": null,
   "id": "72de8c19",
   "metadata": {},
   "outputs": [],
   "source": [
    "gru_test = metrics_score(y_test,y_pred_nn,'Oversampled GRU RNN')"
   ]
  },
  {
   "cell_type": "code",
   "execution_count": null,
   "id": "3db8d8c9",
   "metadata": {},
   "outputs": [],
   "source": [
    "gru_testset = gru_testset.append(gru_test, ignore_index = True)\n",
    "gru_testset "
   ]
  },
  {
   "cell_type": "markdown",
   "id": "3c279270",
   "metadata": {},
   "source": [
    "### Weighted GRU"
   ]
  },
  {
   "cell_type": "code",
   "execution_count": null,
   "id": "59c68400",
   "metadata": {},
   "outputs": [],
   "source": [
    "model.compile(optimizer='adam',loss='binary_crossentropy',metrics=['accuracy'])\n",
    "model.fit(X_train,y_train,batch_size=15,epochs=5,class_weight=class_weights,validation_split=0.1,verbose=1)"
   ]
  },
  {
   "cell_type": "code",
   "execution_count": null,
   "id": "f9acee2b",
   "metadata": {},
   "outputs": [],
   "source": [
    "#Predict the response for test dataset\n",
    "y_pred_nn = model.predict(X_test)"
   ]
  },
  {
   "cell_type": "code",
   "execution_count": null,
   "id": "ab42deaf",
   "metadata": {},
   "outputs": [],
   "source": [
    "for i in range(len(y_test)):\n",
    "    if y_pred_nn[i]>0.5:\n",
    "        y_pred_nn[i]=1 \n",
    "    else:\n",
    "        y_pred_nn[i]=0"
   ]
  },
  {
   "cell_type": "code",
   "execution_count": null,
   "id": "a73425a8",
   "metadata": {},
   "outputs": [],
   "source": [
    "gru_test = metrics_score(y_test,y_pred_nn,'Weighted GRU RNN')"
   ]
  },
  {
   "cell_type": "code",
   "execution_count": null,
   "id": "433cb235",
   "metadata": {},
   "outputs": [],
   "source": [
    "gru_testset = gru_testset.append(gru_test, ignore_index = True)\n",
    "gru_testset "
   ]
  },
  {
   "cell_type": "code",
   "execution_count": null,
   "id": "6e2bff9d",
   "metadata": {},
   "outputs": [],
   "source": []
  }
 ],
 "metadata": {
  "kernelspec": {
   "display_name": "Python 3 (ipykernel)",
   "language": "python",
   "name": "python3"
  },
  "language_info": {
   "codemirror_mode": {
    "name": "ipython",
    "version": 3
   },
   "file_extension": ".py",
   "mimetype": "text/x-python",
   "name": "python",
   "nbconvert_exporter": "python",
   "pygments_lexer": "ipython3",
   "version": "3.9.13"
  }
 },
 "nbformat": 4,
 "nbformat_minor": 5
}
